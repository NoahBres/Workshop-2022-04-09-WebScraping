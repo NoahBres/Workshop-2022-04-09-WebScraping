{
 "cells": [
  {
   "cell_type": "code",
   "execution_count": 1,
   "metadata": {},
   "outputs": [
    {
     "name": "stdout",
     "output_type": "stream",
     "text": [
      "Requirement already satisfied: requests in /Users/noah/miniconda3/lib/python3.8/site-packages (2.27.1)\n",
      "Requirement already satisfied: certifi>=2017.4.17 in /Users/noah/miniconda3/lib/python3.8/site-packages (from requests) (2021.10.8)\n",
      "Requirement already satisfied: charset-normalizer~=2.0.0 in /Users/noah/miniconda3/lib/python3.8/site-packages (from requests) (2.0.12)\n",
      "Requirement already satisfied: idna<4,>=2.5 in /Users/noah/miniconda3/lib/python3.8/site-packages (from requests) (3.3)\n",
      "Requirement already satisfied: urllib3<1.27,>=1.21.1 in /Users/noah/miniconda3/lib/python3.8/site-packages (from requests) (1.26.9)\n"
     ]
    }
   ],
   "source": [
    "# Install packages\n",
    "import sys\n",
    "!{sys.executable} -m pip install requests"
   ]
  },
  {
   "cell_type": "code",
   "execution_count": 2,
   "metadata": {},
   "outputs": [
    {
     "name": "stdout",
     "output_type": "stream",
     "text": [
      "Hullo\n"
     ]
    }
   ],
   "source": [
    "print(\"Hullo\")"
   ]
  },
  {
   "cell_type": "markdown",
   "metadata": {},
   "source": [
    "## RTS Fetch Intercept Example\n",
    "\n",
    "- Right click the selected request\n",
    "- Select \"Copy as cURL\"\n",
    "- Open up [https://curlconverter.com](https://curlconverter.com)\n",
    "- Paste the copied cURL into the \"cURL\" field\n",
    "- Go to the Python tab and it'll show the equivalent Python code for this request with all the headers\n",
    "\n",
    "🚨 THE FOLLOWING SAMPLE WON'T WORK FOR YOU🚨\n",
    "The RTS application seems to have an expiration for the access time. You have to copy the cURL and use your own headers for this to work. The following sample will be expired.\n",
    "You can probably reverse engineer how this works on your own if you care. I suspect it's calling the gettime method and then using the data from that.\n",
    "\n",
    "Sample:"
   ]
  },
  {
   "cell_type": "code",
   "execution_count": 5,
   "metadata": {},
   "outputs": [
    {
     "name": "stdout",
     "output_type": "stream",
     "text": [
      "b'{\\n\\t\"bustime-response\": {\\n\\t\\t\"vehicle\": [\\n\\t\\t\\t{\\n\\t\\t\\t\\t\"vid\": \"1403\",\\n\\t\\t\\t\\t\"tmstmp\": \"20220408 19:36\",\\n\\t\\t\\t\\t\"lat\": \"29.63596952410925\",\\n\\t\\t\\t\\t\"lon\": \"-82.37249567179421\",\\n\\t\\t\\t\\t\"hdg\": \"182\",\\n\\t\\t\\t\\t\"pid\": 500211,\\n\\t\\t\\t\\t\"rt\": \"20\",\\n\\t\\t\\t\\t\"des\": \"Oaks Mall\",\\n\\t\\t\\t\\t\"pdist\": 14558,\\n\\t\\t\\t\\t\"dly\": false,\\n\\t\\t\\t\\t\"spd\": 17,\\n\\t\\t\\t\\t\"tatripid\": \"12842\",\\n\\t\\t\\t\\t\"origtatripno\": \"672069\",\\n\\t\\t\\t\\t\"tablockid\": \"10202\",\\n\\t\\t\\t\\t\"zone\": \"\",\\n\\t\\t\\t\\t\"mode\": 1,\\n\\t\\t\\t\\t\"psgld\": \"N/A\",\\n\\t\\t\\t\\t\"srvtmstmp\": \"20220408 19:36\",\\n\\t\\t\\t\\t\"oid\": \"17722\",\\n\\t\\t\\t\\t\"or\": false,\\n\\t\\t\\t\\t\"rid\": \"83\",\\n\\t\\t\\t\\t\"blk\": 2714802,\\n\\t\\t\\t\\t\"tripid\": 2691020,\\n\\t\\t\\t\\t\"tripdyn\": 0,\\n\\t\\t\\t\\t\"stst\": 69720,\\n\\t\\t\\t\\t\"stsd\": \"2022-04-08\"\\n\\t\\t\\t},\\n\\t\\t\\t{\\n\\t\\t\\t\\t\"vid\": \"2572\",\\n\\t\\t\\t\\t\"tmstmp\": \"20220408 19:36\",\\n\\t\\t\\t\\t\"lat\": \"29.64858166666667\",\\n\\t\\t\\t\\t\"lon\": \"-82.356065\",\\n\\t\\t\\t\\t\"hdg\": \"102\",\\n\\t\\t\\t\\t\"pid\": 500211,\\n\\t\\t\\t\\t\"rt\": \"20\",\\n\\t\\t\\t\\t\"des\": \"Oaks Mall\",\\n\\t\\t\\t\\t\"pdist\": 35518,\\n\\t\\t\\t\\t\"dly\": true,\\n\\t\\t\\t\\t\"spd\": 11,\\n\\t\\t\\t\\t\"tatripid\": \"12841\",\\n\\t\\t\\t\\t\"origtatripno\": \"672068\",\\n\\t\\t\\t\\t\"tablockid\": \"10201\",\\n\\t\\t\\t\\t\"zone\": \"\",\\n\\t\\t\\t\\t\"mode\": 1,\\n\\t\\t\\t\\t\"psgld\": \"N/A\",\\n\\t\\t\\t\\t\"srvtmstmp\": \"20220408 19:36\",\\n\\t\\t\\t\\t\"oid\": \"13838\",\\n\\t\\t\\t\\t\"or\": true,\\n\\t\\t\\t\\t\"rid\": \"104\",\\n\\t\\t\\t\\t\"blk\": 2714702,\\n\\t\\t\\t\\t\"tripid\": 594020,\\n\\t\\t\\t\\t\"tripdyn\": 0,\\n\\t\\t\\t\\t\"stst\": 68820,\\n\\t\\t\\t\\t\"stsd\": \"2022-04-08\"\\n\\t\\t\\t},\\n\\t\\t\\t{\\n\\t\\t\\t\\t\"vid\": \"2001\",\\n\\t\\t\\t\\t\"tmstmp\": \"20220408 19:36\",\\n\\t\\t\\t\\t\"lat\": \"29.64535\",\\n\\t\\t\\t\\t\"lon\": \"-82.34697166666668\",\\n\\t\\t\\t\\t\"hdg\": \"201\",\\n\\t\\t\\t\\t\"pid\": 500214,\\n\\t\\t\\t\\t\"rt\": \"20\",\\n\\t\\t\\t\\t\"des\": \"Reitz Union / UF Campus\",\\n\\t\\t\\t\\t\"pdist\": 33624,\\n\\t\\t\\t\\t\"dly\": true,\\n\\t\\t\\t\\t\"spd\": 0,\\n\\t\\t\\t\\t\"tatripid\": \"12907\",\\n\\t\\t\\t\\t\"origtatripno\": \"672123\",\\n\\t\\t\\t\\t\"tablockid\": \"10203\",\\n\\t\\t\\t\\t\"zone\": \"\",\\n\\t\\t\\t\\t\"mode\": 1,\\n\\t\\t\\t\\t\"psgld\": \"N/A\",\\n\\t\\t\\t\\t\"srvtmstmp\": \"20220408 19:36\",\\n\\t\\t\\t\\t\"oid\": \"19798\",\\n\\t\\t\\t\\t\"or\": false,\\n\\t\\t\\t\\t\"rid\": \"133\",\\n\\t\\t\\t\\t\"blk\": 2714502,\\n\\t\\t\\t\\t\"tripid\": 3792020,\\n\\t\\t\\t\\t\"tripdyn\": 0,\\n\\t\\t\\t\\t\"stst\": 68400,\\n\\t\\t\\t\\t\"stsd\": \"2022-04-08\"\\n\\t\\t\\t}\\n\\t\\t]\\n\\t}\\n}'\n"
     ]
    }
   ],
   "source": [
    "import requests\n",
    "\n",
    "headers = {\n",
    "    'Connection': 'keep-alive',\n",
    "    'sec-ch-ua': '\" Not;A Brand\";v=\"99\", \"Google Chrome\";v=\"97\", \"Chromium\";v=\"97\"',\n",
    "    'Accept': 'application/json',\n",
    "    'X-Date': 'Fri, 08 Apr 2022 23:36:00 GMT',\n",
    "    'sec-ch-ua-mobile': '?0',\n",
    "    'User-Agent': 'Mozilla/5.0 (Macintosh; Intel Mac OS X 10_15_7) AppleWebKit/537.36 (KHTML, like Gecko) Chrome/97.0.4692.71 Safari/537.36',\n",
    "    'X-Request-ID': '4710baeb042156e238641cedf72802eddc82db50a5a3638782dcca0e9c2c4bbb',\n",
    "    'sec-ch-ua-platform': '\"macOS\"',\n",
    "    'Sec-Fetch-Site': 'same-origin',\n",
    "    'Sec-Fetch-Mode': 'cors',\n",
    "    'Sec-Fetch-Dest': 'empty',\n",
    "    'Referer': 'https://www.riderts.app/map',\n",
    "    'Accept-Language': 'en-US,en;q=0.9',\n",
    "}\n",
    "\n",
    "params = {\n",
    "    'requestType': 'getvehicles',\n",
    "    'rt': '20',\n",
    "    'key': 'Qskvu4Z5JDwGEVswqdAVkiA5B',\n",
    "    'format': 'json',\n",
    "    'xtime': '1649460961927',\n",
    "}\n",
    "\n",
    "response = requests.get('https://www.riderts.app/bustime/api/v3/getvehicles', headers=headers, params=params)\n",
    "\n",
    "print(response.content)"
   ]
  }
 ],
 "metadata": {
  "interpreter": {
   "hash": "31f2aee4e71d21fbe5cf8b01ff0e069b9275f58929596ceb00d14d90e3e16cd6"
  },
  "kernelspec": {
   "display_name": "Python 3.8.9 64-bit",
   "language": "python",
   "name": "python3"
  },
  "language_info": {
   "codemirror_mode": {
    "name": "ipython",
    "version": 3
   },
   "file_extension": ".py",
   "mimetype": "text/x-python",
   "name": "python",
   "nbconvert_exporter": "python",
   "pygments_lexer": "ipython3",
   "version": "3.8.13"
  },
  "orig_nbformat": 4
 },
 "nbformat": 4,
 "nbformat_minor": 2
}
